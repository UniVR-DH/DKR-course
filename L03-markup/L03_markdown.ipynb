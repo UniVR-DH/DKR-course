{
  "nbformat": 4,
  "nbformat_minor": 0,
  "metadata": {
    "colab": {
      "provenance": [],
      "authorship_tag": "ABX9TyNPykugjTjQYGoOInopQOdS",
      "include_colab_link": true
    },
    "kernelspec": {
      "name": "python3",
      "display_name": "Python 3"
    },
    "language_info": {
      "name": "python"
    }
  },
  "cells": [
    {
      "cell_type": "markdown",
      "metadata": {
        "id": "view-in-github",
        "colab_type": "text"
      },
      "source": [
        "<a href=\"https://colab.research.google.com/github/UniVR-DH/DKR-course/blob/main/L03-markup/L03_markdown.ipynb\" target=\"_parent\"><img src=\"https://colab.research.google.com/assets/colab-badge.svg\" alt=\"Open In Colab\"/></a>"
      ]
    },
    {
      "cell_type": "markdown",
      "source": [
        "# My Favorite Things\n",
        "\n",
        "\n",
        "\n",
        "## Preamble\n",
        "\n",
        "*Welcome to a glimpse* of my favorite things! This page is a reflection of the joys and pleasures that bring **delight to my life**. From savory dishes to captivating hobbies, let's embark on a journey celebrating the essence of what makes `life beautiful`.\n",
        "\n",
        "\n",
        "\n",
        "## Food\n",
        "\n",
        "| Item  | Quote                                          | Rating |\n",
        "|-------|------------------------------------------------|--------|\n",
        "| Pizza | \"Pizza is not just a meal; it's a slice of happiness.\" - Unknown | 9/10   |\n",
        "| Sushi | \"Sushi: where artistry meets flavor.\" - Unknown | 8/10   |\n",
        "\n",
        "---\n",
        "\n",
        "## Non-food\n",
        "\n",
        "1. Hiking\n",
        "> \"In every walk with nature, one receives far more than he seeks.\" - John Muir\n",
        "![hiking from wikipedia](https://upload.wikimedia.org/wikipedia/commons/thumb/2/26/Escursionismo_sulle_Alpi.jpg/600px-Escursionismo_sulle_Alpi.jpg)\n",
        "\n",
        "2. Reading\n",
        "> \"A reader lives a thousand lives before he dies. The man who never reads lives only one.\" - George R.R. Martin\n",
        "\n",
        "---"
      ],
      "metadata": {
        "id": "CQpmPoF-OJpU"
      }
    }
  ]
}